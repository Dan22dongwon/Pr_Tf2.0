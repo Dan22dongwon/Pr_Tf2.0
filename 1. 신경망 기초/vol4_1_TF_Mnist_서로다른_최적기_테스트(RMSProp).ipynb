{
  "nbformat": 4,
  "nbformat_minor": 0,
  "metadata": {
    "colab": {
      "provenance": []
    },
    "kernelspec": {
      "name": "python3",
      "display_name": "Python 3"
    },
    "language_info": {
      "name": "python"
    }
  },
  "cells": [
    {
      "cell_type": "code",
      "execution_count": 43,
      "metadata": {
        "id": "UWrSgxekQSeQ"
      },
      "outputs": [],
      "source": [
        "import tensorflow as tf\n",
        "import numpy as np\n",
        "from tensorflow import keras"
      ]
    },
    {
      "cell_type": "code",
      "source": [
        "#신경망과 훈련\n",
        "EPOCHS = 50\n",
        "BATCH_SIZE = 128\n",
        "VERBOSE = 1\n",
        "NB_CLASSES = 10 # 출력개수 = 숫자 개수\n",
        "N_HIDDEN = 128\n",
        "VALIDATION_SPLIT = 0.2 # 검증을 위해 남겨둘 훈련 집합 부분\n",
        "DROPOUT = 0.3"
      ],
      "metadata": {
        "id": "SaYJNYbWllQV"
      },
      "execution_count": 44,
      "outputs": []
    },
    {
      "cell_type": "code",
      "source": [
        "# MNIST 데이터셋 로드\n",
        "# 레이블은 원-핫 인코딩 적용\n",
        "mnist = keras.datasets.mnist\n",
        "(X_train,Y_train),(X_test,Y_test) = mnist.load_data()"
      ],
      "metadata": {
        "id": "gJ_zK0iHo7y3"
      },
      "execution_count": 45,
      "outputs": []
    },
    {
      "cell_type": "code",
      "source": [
        "#X_train은 60,000개 행의 28X28값이다; 이를 60,000X784 형태로 변경한다\n",
        "RESHAPED = 784"
      ],
      "metadata": {
        "id": "2UTRIwogqHMZ"
      },
      "execution_count": 46,
      "outputs": []
    },
    {
      "cell_type": "code",
      "source": [
        "#\n",
        "X_train = X_train.reshape(60000,RESHAPED)\n",
        "X_test = X_test.reshape(10000, RESHAPED)\n",
        "X_train = X_train.astype('float32')\n",
        "X_test = X_test.astype('float32')"
      ],
      "metadata": {
        "id": "0md3deF2qmUx"
      },
      "execution_count": 47,
      "outputs": []
    },
    {
      "cell_type": "code",
      "source": [
        "# 입력을 [0,1]사이로 정규화 한다\n",
        "X_train,X_test = X_train/255.0, X_test/255.0\n",
        "print(X_train.shape[0],'train samples')\n",
        "print(X_test.shape[0],'test samples')"
      ],
      "metadata": {
        "colab": {
          "base_uri": "https://localhost:8080/"
        },
        "id": "b-rV92ULrlpB",
        "outputId": "4ea437e0-d64d-490d-d19b-1f6df82476c3"
      },
      "execution_count": 48,
      "outputs": [
        {
          "output_type": "stream",
          "name": "stdout",
          "text": [
            "60000 train samples\n",
            "10000 test samples\n"
          ]
        }
      ]
    },
    {
      "cell_type": "code",
      "source": [
        "#레이블은 원-핫 인코딩 돼 있다\n",
        "Y_train = tf.keras.utils.to_categorical(Y_train,NB_CLASSES)\n",
        "Y_test = tf.keras.utils.to_categorical(Y_test,NB_CLASSES)"
      ],
      "metadata": {
        "id": "PwZdCM2AuLvC"
      },
      "execution_count": 49,
      "outputs": []
    },
    {
      "cell_type": "code",
      "source": [
        "#모델구축\n",
        "model = tf.keras.models.Sequential()\n",
        "model.add(keras.layers.Dense(N_HIDDEN,\n",
        "                             input_shape =(RESHAPED,),\n",
        "                             name = 'dense_layer', activation = 'relu'))\n",
        "model.add(keras.layers.Dropout(DROPOUT))\n",
        "model.add(keras.layers.Dense(N_HIDDEN,\n",
        "                             name = 'dense_layer_2', activation = 'relu'))\n",
        "model.add(keras.layers.Dropout(DROPOUT))\n",
        "model.add(keras.layers.Dense(NB_CLASSES,\n",
        "                             name = 'dense_layer_3' , activation = 'softmax'))"
      ],
      "metadata": {
        "id": "S-3wldaVuupM"
      },
      "execution_count": 50,
      "outputs": []
    },
    {
      "cell_type": "code",
      "source": [
        "# model 요약\n",
        "model.summary()"
      ],
      "metadata": {
        "colab": {
          "base_uri": "https://localhost:8080/"
        },
        "id": "JlsgP7cEwVMv",
        "outputId": "6d41519a-a3a4-492c-c4ce-354730c58fef"
      },
      "execution_count": 51,
      "outputs": [
        {
          "output_type": "stream",
          "name": "stdout",
          "text": [
            "Model: \"sequential_6\"\n",
            "_________________________________________________________________\n",
            " Layer (type)                Output Shape              Param #   \n",
            "=================================================================\n",
            " dense_layer (Dense)         (None, 128)               100480    \n",
            "                                                                 \n",
            " dropout_2 (Dropout)         (None, 128)               0         \n",
            "                                                                 \n",
            " dense_layer_2 (Dense)       (None, 128)               16512     \n",
            "                                                                 \n",
            " dropout_3 (Dropout)         (None, 128)               0         \n",
            "                                                                 \n",
            " dense_layer_3 (Dense)       (None, 10)                1290      \n",
            "                                                                 \n",
            "=================================================================\n",
            "Total params: 118282 (462.04 KB)\n",
            "Trainable params: 118282 (462.04 KB)\n",
            "Non-trainable params: 0 (0.00 Byte)\n",
            "_________________________________________________________________\n"
          ]
        }
      ]
    },
    {
      "cell_type": "code",
      "source": [
        "#모델 컴파일\n",
        "model.compile(optimizer='RMSProp',\n",
        "              loss='categorical_crossentropy',\n",
        "              metrics=['accuracy'])"
      ],
      "metadata": {
        "id": "xB7eO_cjwbQW"
      },
      "execution_count": 52,
      "outputs": []
    },
    {
      "cell_type": "code",
      "source": [
        "#모델 훈련\n",
        "model.fit(X_train,Y_train,\n",
        "          batch_size=BATCH_SIZE, epochs=EPOCHS,\n",
        "          verbose=VERBOSE, validation_split=VALIDATION_SPLIT)"
      ],
      "metadata": {
        "colab": {
          "base_uri": "https://localhost:8080/"
        },
        "id": "2zHJ8yZUwrNm",
        "outputId": "fe5e0b48-da2a-4131-9f74-a8d60c097be4"
      },
      "execution_count": 53,
      "outputs": [
        {
          "output_type": "stream",
          "name": "stdout",
          "text": [
            "Epoch 1/50\n",
            "375/375 [==============================] - 3s 7ms/step - loss: 0.4837 - accuracy: 0.8533 - val_loss: 0.1816 - val_accuracy: 0.9472\n",
            "Epoch 2/50\n",
            "375/375 [==============================] - 2s 6ms/step - loss: 0.2279 - accuracy: 0.9328 - val_loss: 0.1398 - val_accuracy: 0.9582\n",
            "Epoch 3/50\n",
            "375/375 [==============================] - 2s 6ms/step - loss: 0.1782 - accuracy: 0.9470 - val_loss: 0.1201 - val_accuracy: 0.9653\n",
            "Epoch 4/50\n",
            "375/375 [==============================] - 2s 6ms/step - loss: 0.1515 - accuracy: 0.9553 - val_loss: 0.1126 - val_accuracy: 0.9675\n",
            "Epoch 5/50\n",
            "375/375 [==============================] - 3s 9ms/step - loss: 0.1350 - accuracy: 0.9598 - val_loss: 0.1108 - val_accuracy: 0.9678\n",
            "Epoch 6/50\n",
            "375/375 [==============================] - 3s 7ms/step - loss: 0.1221 - accuracy: 0.9643 - val_loss: 0.0981 - val_accuracy: 0.9711\n",
            "Epoch 7/50\n",
            "375/375 [==============================] - 2s 6ms/step - loss: 0.1116 - accuracy: 0.9665 - val_loss: 0.0920 - val_accuracy: 0.9737\n",
            "Epoch 8/50\n",
            "375/375 [==============================] - 2s 6ms/step - loss: 0.1013 - accuracy: 0.9690 - val_loss: 0.0963 - val_accuracy: 0.9747\n",
            "Epoch 9/50\n",
            "375/375 [==============================] - 2s 6ms/step - loss: 0.0994 - accuracy: 0.9699 - val_loss: 0.0915 - val_accuracy: 0.9743\n",
            "Epoch 10/50\n",
            "375/375 [==============================] - 2s 6ms/step - loss: 0.0893 - accuracy: 0.9729 - val_loss: 0.0994 - val_accuracy: 0.9732\n",
            "Epoch 11/50\n",
            "375/375 [==============================] - 4s 10ms/step - loss: 0.0862 - accuracy: 0.9738 - val_loss: 0.0972 - val_accuracy: 0.9748\n",
            "Epoch 12/50\n",
            "375/375 [==============================] - 2s 7ms/step - loss: 0.0829 - accuracy: 0.9753 - val_loss: 0.0902 - val_accuracy: 0.9773\n",
            "Epoch 13/50\n",
            "375/375 [==============================] - 2s 6ms/step - loss: 0.0812 - accuracy: 0.9755 - val_loss: 0.0968 - val_accuracy: 0.9764\n",
            "Epoch 14/50\n",
            "375/375 [==============================] - 2s 6ms/step - loss: 0.0788 - accuracy: 0.9755 - val_loss: 0.0935 - val_accuracy: 0.9762\n",
            "Epoch 15/50\n",
            "375/375 [==============================] - 2s 6ms/step - loss: 0.0742 - accuracy: 0.9766 - val_loss: 0.0965 - val_accuracy: 0.9766\n",
            "Epoch 16/50\n",
            "375/375 [==============================] - 3s 7ms/step - loss: 0.0712 - accuracy: 0.9782 - val_loss: 0.0932 - val_accuracy: 0.9779\n",
            "Epoch 17/50\n",
            "375/375 [==============================] - 4s 10ms/step - loss: 0.0700 - accuracy: 0.9790 - val_loss: 0.0931 - val_accuracy: 0.9778\n",
            "Epoch 18/50\n",
            "375/375 [==============================] - 2s 6ms/step - loss: 0.0674 - accuracy: 0.9794 - val_loss: 0.0953 - val_accuracy: 0.9786\n",
            "Epoch 19/50\n",
            "375/375 [==============================] - 2s 6ms/step - loss: 0.0659 - accuracy: 0.9793 - val_loss: 0.1056 - val_accuracy: 0.9774\n",
            "Epoch 20/50\n",
            "375/375 [==============================] - 2s 6ms/step - loss: 0.0669 - accuracy: 0.9793 - val_loss: 0.0989 - val_accuracy: 0.9761\n",
            "Epoch 21/50\n",
            "375/375 [==============================] - 2s 6ms/step - loss: 0.0625 - accuracy: 0.9811 - val_loss: 0.0980 - val_accuracy: 0.9789\n",
            "Epoch 22/50\n",
            "375/375 [==============================] - 3s 9ms/step - loss: 0.0639 - accuracy: 0.9808 - val_loss: 0.1020 - val_accuracy: 0.9768\n",
            "Epoch 23/50\n",
            "375/375 [==============================] - 3s 8ms/step - loss: 0.0599 - accuracy: 0.9820 - val_loss: 0.0983 - val_accuracy: 0.9786\n",
            "Epoch 24/50\n",
            "375/375 [==============================] - 2s 6ms/step - loss: 0.0622 - accuracy: 0.9809 - val_loss: 0.1018 - val_accuracy: 0.9778\n",
            "Epoch 25/50\n",
            "375/375 [==============================] - 2s 6ms/step - loss: 0.0575 - accuracy: 0.9824 - val_loss: 0.1085 - val_accuracy: 0.9783\n",
            "Epoch 26/50\n",
            "375/375 [==============================] - 2s 6ms/step - loss: 0.0596 - accuracy: 0.9824 - val_loss: 0.1052 - val_accuracy: 0.9777\n",
            "Epoch 27/50\n",
            "375/375 [==============================] - 2s 6ms/step - loss: 0.0568 - accuracy: 0.9831 - val_loss: 0.1140 - val_accuracy: 0.9767\n",
            "Epoch 28/50\n",
            "375/375 [==============================] - 3s 9ms/step - loss: 0.0554 - accuracy: 0.9836 - val_loss: 0.1015 - val_accuracy: 0.9780\n",
            "Epoch 29/50\n",
            "375/375 [==============================] - 4s 10ms/step - loss: 0.0530 - accuracy: 0.9842 - val_loss: 0.1065 - val_accuracy: 0.9773\n",
            "Epoch 30/50\n",
            "375/375 [==============================] - 2s 6ms/step - loss: 0.0518 - accuracy: 0.9843 - val_loss: 0.1045 - val_accuracy: 0.9792\n",
            "Epoch 31/50\n",
            "375/375 [==============================] - 2s 6ms/step - loss: 0.0534 - accuracy: 0.9842 - val_loss: 0.1141 - val_accuracy: 0.9783\n",
            "Epoch 32/50\n",
            "375/375 [==============================] - 2s 6ms/step - loss: 0.0536 - accuracy: 0.9846 - val_loss: 0.1109 - val_accuracy: 0.9792\n",
            "Epoch 33/50\n",
            "375/375 [==============================] - 3s 7ms/step - loss: 0.0533 - accuracy: 0.9842 - val_loss: 0.1175 - val_accuracy: 0.9781\n",
            "Epoch 34/50\n",
            "375/375 [==============================] - 4s 10ms/step - loss: 0.0523 - accuracy: 0.9841 - val_loss: 0.1172 - val_accuracy: 0.9780\n",
            "Epoch 35/50\n",
            "375/375 [==============================] - 2s 6ms/step - loss: 0.0505 - accuracy: 0.9845 - val_loss: 0.1118 - val_accuracy: 0.9780\n",
            "Epoch 36/50\n",
            "375/375 [==============================] - 2s 5ms/step - loss: 0.0515 - accuracy: 0.9845 - val_loss: 0.1136 - val_accuracy: 0.9789\n",
            "Epoch 37/50\n",
            "375/375 [==============================] - 2s 6ms/step - loss: 0.0499 - accuracy: 0.9844 - val_loss: 0.1165 - val_accuracy: 0.9784\n",
            "Epoch 38/50\n",
            "375/375 [==============================] - 2s 6ms/step - loss: 0.0475 - accuracy: 0.9859 - val_loss: 0.1244 - val_accuracy: 0.9775\n",
            "Epoch 39/50\n",
            "375/375 [==============================] - 3s 8ms/step - loss: 0.0491 - accuracy: 0.9859 - val_loss: 0.1170 - val_accuracy: 0.9779\n",
            "Epoch 40/50\n",
            "375/375 [==============================] - 3s 8ms/step - loss: 0.0458 - accuracy: 0.9859 - val_loss: 0.1175 - val_accuracy: 0.9800\n",
            "Epoch 41/50\n",
            "375/375 [==============================] - 2s 6ms/step - loss: 0.0468 - accuracy: 0.9858 - val_loss: 0.1236 - val_accuracy: 0.9783\n",
            "Epoch 42/50\n",
            "375/375 [==============================] - 2s 6ms/step - loss: 0.0469 - accuracy: 0.9861 - val_loss: 0.1300 - val_accuracy: 0.9778\n",
            "Epoch 43/50\n",
            "375/375 [==============================] - 2s 6ms/step - loss: 0.0487 - accuracy: 0.9856 - val_loss: 0.1206 - val_accuracy: 0.9789\n",
            "Epoch 44/50\n",
            "375/375 [==============================] - 2s 6ms/step - loss: 0.0460 - accuracy: 0.9868 - val_loss: 0.1251 - val_accuracy: 0.9784\n",
            "Epoch 45/50\n",
            "375/375 [==============================] - 3s 8ms/step - loss: 0.0436 - accuracy: 0.9872 - val_loss: 0.1329 - val_accuracy: 0.9787\n",
            "Epoch 46/50\n",
            "375/375 [==============================] - 3s 8ms/step - loss: 0.0473 - accuracy: 0.9862 - val_loss: 0.1207 - val_accuracy: 0.9801\n",
            "Epoch 47/50\n",
            "375/375 [==============================] - 2s 6ms/step - loss: 0.0457 - accuracy: 0.9863 - val_loss: 0.1301 - val_accuracy: 0.9786\n",
            "Epoch 48/50\n",
            "375/375 [==============================] - 2s 6ms/step - loss: 0.0440 - accuracy: 0.9875 - val_loss: 0.1297 - val_accuracy: 0.9789\n",
            "Epoch 49/50\n",
            "375/375 [==============================] - 2s 6ms/step - loss: 0.0464 - accuracy: 0.9860 - val_loss: 0.1304 - val_accuracy: 0.9772\n",
            "Epoch 50/50\n",
            "375/375 [==============================] - 2s 6ms/step - loss: 0.0435 - accuracy: 0.9872 - val_loss: 0.1343 - val_accuracy: 0.9789\n"
          ]
        },
        {
          "output_type": "execute_result",
          "data": {
            "text/plain": [
              "<keras.src.callbacks.History at 0x7f807e830b80>"
            ]
          },
          "metadata": {},
          "execution_count": 53
        }
      ]
    },
    {
      "cell_type": "code",
      "source": [
        "#모델 평가\n",
        "test_loss,test_acc = model.evaluate(X_test,Y_test)\n",
        "print('test accuray:',test_acc)"
      ],
      "metadata": {
        "colab": {
          "base_uri": "https://localhost:8080/"
        },
        "id": "I3KoVCBOxU5m",
        "outputId": "719035f6-c8bd-4a92-c4d7-59548e079d88"
      },
      "execution_count": 54,
      "outputs": [
        {
          "output_type": "stream",
          "name": "stdout",
          "text": [
            "313/313 [==============================] - 1s 2ms/step - loss: 0.1242 - accuracy: 0.9792\n",
            "test accuray: 0.979200005531311\n"
          ]
        }
      ]
    }
  ]
}