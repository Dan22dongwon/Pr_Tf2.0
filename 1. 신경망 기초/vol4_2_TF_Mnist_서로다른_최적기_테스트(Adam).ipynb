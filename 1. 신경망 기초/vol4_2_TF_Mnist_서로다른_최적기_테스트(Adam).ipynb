{
  "nbformat": 4,
  "nbformat_minor": 0,
  "metadata": {
    "colab": {
      "provenance": []
    },
    "kernelspec": {
      "name": "python3",
      "display_name": "Python 3"
    },
    "language_info": {
      "name": "python"
    }
  },
  "cells": [
    {
      "cell_type": "code",
      "execution_count": 43,
      "metadata": {
        "id": "UWrSgxekQSeQ"
      },
      "outputs": [],
      "source": [
        "import tensorflow as tf\n",
        "import numpy as np\n",
        "from tensorflow import keras"
      ]
    },
    {
      "cell_type": "code",
      "source": [
        "#신경망과 훈련\n",
        "EPOCHS = 50\n",
        "BATCH_SIZE = 128\n",
        "VERBOSE = 1\n",
        "NB_CLASSES = 10 # 출력개수 = 숫자 개수\n",
        "N_HIDDEN = 128\n",
        "VALIDATION_SPLIT = 0.2 # 검증을 위해 남겨둘 훈련 집합 부분\n",
        "DROPOUT = 0.3"
      ],
      "metadata": {
        "id": "SaYJNYbWllQV"
      },
      "execution_count": 44,
      "outputs": []
    },
    {
      "cell_type": "code",
      "source": [
        "# MNIST 데이터셋 로드\n",
        "# 레이블은 원-핫 인코딩 적용\n",
        "mnist = keras.datasets.mnist\n",
        "(X_train,Y_train),(X_test,Y_test) = mnist.load_data()"
      ],
      "metadata": {
        "id": "gJ_zK0iHo7y3"
      },
      "execution_count": 45,
      "outputs": []
    },
    {
      "cell_type": "code",
      "source": [
        "#X_train은 60,000개 행의 28X28값이다; 이를 60,000X784 형태로 변경한다\n",
        "RESHAPED = 784"
      ],
      "metadata": {
        "id": "2UTRIwogqHMZ"
      },
      "execution_count": 46,
      "outputs": []
    },
    {
      "cell_type": "code",
      "source": [
        "#\n",
        "X_train = X_train.reshape(60000,RESHAPED)\n",
        "X_test = X_test.reshape(10000, RESHAPED)\n",
        "X_train = X_train.astype('float32')\n",
        "X_test = X_test.astype('float32')"
      ],
      "metadata": {
        "id": "0md3deF2qmUx"
      },
      "execution_count": 47,
      "outputs": []
    },
    {
      "cell_type": "code",
      "source": [
        "# 입력을 [0,1]사이로 정규화 한다\n",
        "X_train,X_test = X_train/255.0, X_test/255.0\n",
        "print(X_train.shape[0],'train samples')\n",
        "print(X_test.shape[0],'test samples')"
      ],
      "metadata": {
        "colab": {
          "base_uri": "https://localhost:8080/"
        },
        "id": "b-rV92ULrlpB",
        "outputId": "4ea437e0-d64d-490d-d19b-1f6df82476c3"
      },
      "execution_count": 48,
      "outputs": [
        {
          "output_type": "stream",
          "name": "stdout",
          "text": [
            "60000 train samples\n",
            "10000 test samples\n"
          ]
        }
      ]
    },
    {
      "cell_type": "code",
      "source": [
        "#레이블은 원-핫 인코딩 돼 있다\n",
        "Y_train = tf.keras.utils.to_categorical(Y_train,NB_CLASSES)\n",
        "Y_test = tf.keras.utils.to_categorical(Y_test,NB_CLASSES)"
      ],
      "metadata": {
        "id": "PwZdCM2AuLvC"
      },
      "execution_count": 49,
      "outputs": []
    },
    {
      "cell_type": "code",
      "source": [
        "#모델구축\n",
        "model = tf.keras.models.Sequential()\n",
        "model.add(keras.layers.Dense(N_HIDDEN,\n",
        "                             input_shape =(RESHAPED,),\n",
        "                             name = 'dense_layer', activation = 'relu'))\n",
        "model.add(keras.layers.Dropout(DROPOUT))\n",
        "model.add(keras.layers.Dense(N_HIDDEN,\n",
        "                             name = 'dense_layer_2', activation = 'relu'))\n",
        "model.add(keras.layers.Dropout(DROPOUT))\n",
        "model.add(keras.layers.Dense(NB_CLASSES,\n",
        "                             name = 'dense_layer_3' , activation = 'softmax'))"
      ],
      "metadata": {
        "id": "S-3wldaVuupM"
      },
      "execution_count": 50,
      "outputs": []
    },
    {
      "cell_type": "code",
      "source": [
        "# model 요약\n",
        "model.summary()"
      ],
      "metadata": {
        "colab": {
          "base_uri": "https://localhost:8080/"
        },
        "id": "JlsgP7cEwVMv",
        "outputId": "6d41519a-a3a4-492c-c4ce-354730c58fef"
      },
      "execution_count": 51,
      "outputs": [
        {
          "output_type": "stream",
          "name": "stdout",
          "text": [
            "Model: \"sequential_6\"\n",
            "_________________________________________________________________\n",
            " Layer (type)                Output Shape              Param #   \n",
            "=================================================================\n",
            " dense_layer (Dense)         (None, 128)               100480    \n",
            "                                                                 \n",
            " dropout_2 (Dropout)         (None, 128)               0         \n",
            "                                                                 \n",
            " dense_layer_2 (Dense)       (None, 128)               16512     \n",
            "                                                                 \n",
            " dropout_3 (Dropout)         (None, 128)               0         \n",
            "                                                                 \n",
            " dense_layer_3 (Dense)       (None, 10)                1290      \n",
            "                                                                 \n",
            "=================================================================\n",
            "Total params: 118282 (462.04 KB)\n",
            "Trainable params: 118282 (462.04 KB)\n",
            "Non-trainable params: 0 (0.00 Byte)\n",
            "_________________________________________________________________\n"
          ]
        }
      ]
    },
    {
      "cell_type": "code",
      "source": [
        "#모델 컴파일\n",
        "model.compile(optimizer='Adam',\n",
        "              loss='categorical_crossentropy',\n",
        "              metrics=['accuracy'])"
      ],
      "metadata": {
        "id": "xB7eO_cjwbQW"
      },
      "execution_count": 55,
      "outputs": []
    },
    {
      "cell_type": "code",
      "source": [
        "#모델 훈련\n",
        "model.fit(X_train,Y_train,\n",
        "          batch_size=BATCH_SIZE, epochs=EPOCHS,\n",
        "          verbose=VERBOSE, validation_split=VALIDATION_SPLIT)"
      ],
      "metadata": {
        "colab": {
          "base_uri": "https://localhost:8080/"
        },
        "id": "2zHJ8yZUwrNm",
        "outputId": "e580bdfd-bea3-482c-e699-7925e0b0ecb2"
      },
      "execution_count": 56,
      "outputs": [
        {
          "output_type": "stream",
          "name": "stdout",
          "text": [
            "Epoch 1/50\n",
            "375/375 [==============================] - 3s 6ms/step - loss: 0.0516 - accuracy: 0.9840 - val_loss: 0.1244 - val_accuracy: 0.9765\n",
            "Epoch 2/50\n",
            "375/375 [==============================] - 3s 9ms/step - loss: 0.0501 - accuracy: 0.9848 - val_loss: 0.1105 - val_accuracy: 0.9783\n",
            "Epoch 3/50\n",
            "375/375 [==============================] - 3s 8ms/step - loss: 0.0487 - accuracy: 0.9853 - val_loss: 0.1095 - val_accuracy: 0.9782\n",
            "Epoch 4/50\n",
            "375/375 [==============================] - 2s 6ms/step - loss: 0.0477 - accuracy: 0.9849 - val_loss: 0.1095 - val_accuracy: 0.9786\n",
            "Epoch 5/50\n",
            "375/375 [==============================] - 2s 6ms/step - loss: 0.0441 - accuracy: 0.9861 - val_loss: 0.1141 - val_accuracy: 0.9782\n",
            "Epoch 6/50\n",
            "375/375 [==============================] - 2s 6ms/step - loss: 0.0443 - accuracy: 0.9854 - val_loss: 0.1066 - val_accuracy: 0.9787\n",
            "Epoch 7/50\n",
            "375/375 [==============================] - 2s 6ms/step - loss: 0.0401 - accuracy: 0.9871 - val_loss: 0.1149 - val_accuracy: 0.9784\n",
            "Epoch 8/50\n",
            "375/375 [==============================] - 3s 9ms/step - loss: 0.0434 - accuracy: 0.9865 - val_loss: 0.1076 - val_accuracy: 0.9789\n",
            "Epoch 9/50\n",
            "375/375 [==============================] - 3s 7ms/step - loss: 0.0432 - accuracy: 0.9862 - val_loss: 0.1063 - val_accuracy: 0.9800\n",
            "Epoch 10/50\n",
            "375/375 [==============================] - 2s 6ms/step - loss: 0.0410 - accuracy: 0.9868 - val_loss: 0.1151 - val_accuracy: 0.9797\n",
            "Epoch 11/50\n",
            "375/375 [==============================] - 2s 6ms/step - loss: 0.0387 - accuracy: 0.9877 - val_loss: 0.1126 - val_accuracy: 0.9780\n",
            "Epoch 12/50\n",
            "375/375 [==============================] - 2s 6ms/step - loss: 0.0400 - accuracy: 0.9872 - val_loss: 0.1024 - val_accuracy: 0.9783\n",
            "Epoch 13/50\n",
            "375/375 [==============================] - 2s 6ms/step - loss: 0.0402 - accuracy: 0.9872 - val_loss: 0.1103 - val_accuracy: 0.9775\n",
            "Epoch 14/50\n",
            "375/375 [==============================] - 4s 10ms/step - loss: 0.0365 - accuracy: 0.9877 - val_loss: 0.1101 - val_accuracy: 0.9796\n",
            "Epoch 15/50\n",
            "375/375 [==============================] - 3s 7ms/step - loss: 0.0394 - accuracy: 0.9871 - val_loss: 0.1117 - val_accuracy: 0.9778\n",
            "Epoch 16/50\n",
            "375/375 [==============================] - 2s 6ms/step - loss: 0.0365 - accuracy: 0.9882 - val_loss: 0.1073 - val_accuracy: 0.9797\n",
            "Epoch 17/50\n",
            "375/375 [==============================] - 2s 6ms/step - loss: 0.0343 - accuracy: 0.9891 - val_loss: 0.1148 - val_accuracy: 0.9795\n",
            "Epoch 18/50\n",
            "375/375 [==============================] - 2s 6ms/step - loss: 0.0356 - accuracy: 0.9885 - val_loss: 0.1047 - val_accuracy: 0.9797\n",
            "Epoch 19/50\n",
            "375/375 [==============================] - 3s 7ms/step - loss: 0.0342 - accuracy: 0.9889 - val_loss: 0.1126 - val_accuracy: 0.9788\n",
            "Epoch 20/50\n",
            "375/375 [==============================] - 4s 10ms/step - loss: 0.0360 - accuracy: 0.9880 - val_loss: 0.1042 - val_accuracy: 0.9811\n",
            "Epoch 21/50\n",
            "375/375 [==============================] - 2s 6ms/step - loss: 0.0319 - accuracy: 0.9895 - val_loss: 0.1141 - val_accuracy: 0.9787\n",
            "Epoch 22/50\n",
            "375/375 [==============================] - 2s 6ms/step - loss: 0.0344 - accuracy: 0.9883 - val_loss: 0.1126 - val_accuracy: 0.9780\n",
            "Epoch 23/50\n",
            "375/375 [==============================] - 2s 6ms/step - loss: 0.0360 - accuracy: 0.9885 - val_loss: 0.1037 - val_accuracy: 0.9797\n",
            "Epoch 24/50\n",
            "375/375 [==============================] - 2s 6ms/step - loss: 0.0342 - accuracy: 0.9885 - val_loss: 0.1094 - val_accuracy: 0.9797\n",
            "Epoch 25/50\n",
            "375/375 [==============================] - 3s 9ms/step - loss: 0.0331 - accuracy: 0.9890 - val_loss: 0.1091 - val_accuracy: 0.9802\n",
            "Epoch 26/50\n",
            "375/375 [==============================] - 3s 8ms/step - loss: 0.0327 - accuracy: 0.9887 - val_loss: 0.1103 - val_accuracy: 0.9793\n",
            "Epoch 27/50\n",
            "375/375 [==============================] - 2s 6ms/step - loss: 0.0327 - accuracy: 0.9900 - val_loss: 0.1091 - val_accuracy: 0.9791\n",
            "Epoch 28/50\n",
            "375/375 [==============================] - 2s 6ms/step - loss: 0.0326 - accuracy: 0.9892 - val_loss: 0.1108 - val_accuracy: 0.9795\n",
            "Epoch 29/50\n",
            "375/375 [==============================] - 2s 6ms/step - loss: 0.0330 - accuracy: 0.9891 - val_loss: 0.1079 - val_accuracy: 0.9808\n",
            "Epoch 30/50\n",
            "375/375 [==============================] - 2s 6ms/step - loss: 0.0323 - accuracy: 0.9896 - val_loss: 0.1182 - val_accuracy: 0.9798\n",
            "Epoch 31/50\n",
            "375/375 [==============================] - 4s 9ms/step - loss: 0.0310 - accuracy: 0.9899 - val_loss: 0.1175 - val_accuracy: 0.9783\n",
            "Epoch 32/50\n",
            "375/375 [==============================] - 3s 7ms/step - loss: 0.0297 - accuracy: 0.9904 - val_loss: 0.1114 - val_accuracy: 0.9791\n",
            "Epoch 33/50\n",
            "375/375 [==============================] - 2s 6ms/step - loss: 0.0331 - accuracy: 0.9890 - val_loss: 0.1123 - val_accuracy: 0.9794\n",
            "Epoch 34/50\n",
            "375/375 [==============================] - 2s 6ms/step - loss: 0.0309 - accuracy: 0.9898 - val_loss: 0.1026 - val_accuracy: 0.9801\n",
            "Epoch 35/50\n",
            "375/375 [==============================] - 2s 6ms/step - loss: 0.0272 - accuracy: 0.9911 - val_loss: 0.1067 - val_accuracy: 0.9803\n",
            "Epoch 36/50\n",
            "375/375 [==============================] - 2s 6ms/step - loss: 0.0303 - accuracy: 0.9900 - val_loss: 0.1124 - val_accuracy: 0.9796\n",
            "Epoch 37/50\n",
            "375/375 [==============================] - 4s 9ms/step - loss: 0.0282 - accuracy: 0.9906 - val_loss: 0.1031 - val_accuracy: 0.9803\n",
            "Epoch 38/50\n",
            "375/375 [==============================] - 3s 7ms/step - loss: 0.0321 - accuracy: 0.9900 - val_loss: 0.1134 - val_accuracy: 0.9798\n",
            "Epoch 39/50\n",
            "375/375 [==============================] - 2s 6ms/step - loss: 0.0281 - accuracy: 0.9909 - val_loss: 0.1108 - val_accuracy: 0.9802\n",
            "Epoch 40/50\n",
            "375/375 [==============================] - 2s 6ms/step - loss: 0.0292 - accuracy: 0.9908 - val_loss: 0.0996 - val_accuracy: 0.9804\n",
            "Epoch 41/50\n",
            "375/375 [==============================] - 2s 6ms/step - loss: 0.0328 - accuracy: 0.9896 - val_loss: 0.1078 - val_accuracy: 0.9796\n",
            "Epoch 42/50\n",
            "375/375 [==============================] - 3s 7ms/step - loss: 0.0268 - accuracy: 0.9911 - val_loss: 0.1143 - val_accuracy: 0.9797\n",
            "Epoch 43/50\n",
            "375/375 [==============================] - 4s 10ms/step - loss: 0.0291 - accuracy: 0.9909 - val_loss: 0.1045 - val_accuracy: 0.9794\n",
            "Epoch 44/50\n",
            "375/375 [==============================] - 2s 6ms/step - loss: 0.0261 - accuracy: 0.9915 - val_loss: 0.1002 - val_accuracy: 0.9804\n",
            "Epoch 45/50\n",
            "375/375 [==============================] - 2s 6ms/step - loss: 0.0290 - accuracy: 0.9907 - val_loss: 0.1091 - val_accuracy: 0.9809\n",
            "Epoch 46/50\n",
            "375/375 [==============================] - 2s 6ms/step - loss: 0.0268 - accuracy: 0.9912 - val_loss: 0.1072 - val_accuracy: 0.9803\n",
            "Epoch 47/50\n",
            "375/375 [==============================] - 2s 6ms/step - loss: 0.0289 - accuracy: 0.9906 - val_loss: 0.1046 - val_accuracy: 0.9794\n",
            "Epoch 48/50\n",
            "375/375 [==============================] - 3s 8ms/step - loss: 0.0269 - accuracy: 0.9913 - val_loss: 0.1095 - val_accuracy: 0.9800\n",
            "Epoch 49/50\n",
            "375/375 [==============================] - 3s 8ms/step - loss: 0.0269 - accuracy: 0.9914 - val_loss: 0.1076 - val_accuracy: 0.9804\n",
            "Epoch 50/50\n",
            "375/375 [==============================] - 2s 6ms/step - loss: 0.0287 - accuracy: 0.9908 - val_loss: 0.1067 - val_accuracy: 0.9796\n"
          ]
        },
        {
          "output_type": "execute_result",
          "data": {
            "text/plain": [
              "<keras.src.callbacks.History at 0x7f807e8bf460>"
            ]
          },
          "metadata": {},
          "execution_count": 56
        }
      ]
    },
    {
      "cell_type": "code",
      "source": [
        "#모델 평가\n",
        "test_loss,test_acc = model.evaluate(X_test,Y_test)\n",
        "print('test accuray:',test_acc)"
      ],
      "metadata": {
        "colab": {
          "base_uri": "https://localhost:8080/"
        },
        "id": "I3KoVCBOxU5m",
        "outputId": "27509024-9a9d-4fc7-fc54-18a405fa0907"
      },
      "execution_count": 57,
      "outputs": [
        {
          "output_type": "stream",
          "name": "stdout",
          "text": [
            "313/313 [==============================] - 1s 2ms/step - loss: 0.1009 - accuracy: 0.9806\n",
            "test accuray: 0.9805999994277954\n"
          ]
        }
      ]
    }
  ]
}