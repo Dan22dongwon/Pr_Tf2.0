{
  "nbformat": 4,
  "nbformat_minor": 0,
  "metadata": {
    "colab": {
      "provenance": []
    },
    "kernelspec": {
      "name": "python3",
      "display_name": "Python 3"
    },
    "language_info": {
      "name": "python"
    }
  },
  "cells": [
    {
      "cell_type": "code",
      "execution_count": 1,
      "metadata": {
        "id": "pPsUUGfz05b9"
      },
      "outputs": [],
      "source": [
        "import tensorflow as tf\n",
        "from tensorflow.keras import datasets, layers, models, preprocessing"
      ]
    },
    {
      "cell_type": "code",
      "source": [
        "import tensorflow_datasets as tfds\n",
        "\n",
        "max_len = 200\n",
        "n_words = 10000\n",
        "dim_embedding = 256\n",
        "EPOCHS = 20\n",
        "BATCH_SIZE = 500\n",
        "\n",
        "def load_data():\n",
        "   # 데이터 로드\n",
        "   (X_train, y_train),(X_test,y_test) = datasets.imdb.load_data(num_words = n_words)\n",
        "   #문장을 max_len 이 되도록 채워 넣는다\n",
        "   X_train = preprocessing.sequence.pad_sequences(X_train,maxlen=max_len)\n",
        "   X_test = preprocessing.sequence.pad_sequences(X_test,maxlen=max_len)\n",
        "   return (X_train, y_train),(X_test, y_test)"
      ],
      "metadata": {
        "id": "mtKhhEuz8AQF"
      },
      "execution_count": 2,
      "outputs": []
    },
    {
      "cell_type": "code",
      "source": [
        "def build_model():\n",
        "  model = models.Sequential()\n",
        "  #입력 : -eEmbedding Layer.\n",
        "  #모델은 크기의 정수 행렬을 입력으로 취한다(batch, input_length).\n",
        "  #모델의 출력은 차원이다 (input_length, dim_embedding).\n",
        "  #입력 중 가장 큰 정수는 n_words 보다 작거나 같다 (어휘 크기).\n",
        "  model.add(layers.Embedding(n_words,\n",
        "                              dim_embedding, input_length=max_len))\n",
        "\n",
        "  model.add(layers.Dropout(0.3))\n",
        "\n",
        "  #각 n_words 특징에서 특징 벡터의 최댓값을 취함\n",
        "  model.add(layers.GlobalMaxPool1D())\n",
        "  model.add(layers.Dense(128,activation = 'relu'))\n",
        "  model.add(layers.Dropout(0.5))\n",
        "  model.add(layers.Dense(1, activation='sigmoid'))\n",
        "\n",
        "  return model"
      ],
      "metadata": {
        "id": "QwJROGOh-_22"
      },
      "execution_count": 11,
      "outputs": []
    },
    {
      "cell_type": "code",
      "source": [
        "(X_train,y_train),(X_test,y_test)=load_data()\n",
        "model = build_model()"
      ],
      "metadata": {
        "id": "beQFyTGPAtJp"
      },
      "execution_count": 12,
      "outputs": []
    },
    {
      "cell_type": "code",
      "source": [
        "model.summary()"
      ],
      "metadata": {
        "colab": {
          "base_uri": "https://localhost:8080/"
        },
        "id": "J9NLmqWRBNUg",
        "outputId": "953eaa4b-6679-4e56-f3fc-4a95b99f7537"
      },
      "execution_count": 13,
      "outputs": [
        {
          "output_type": "stream",
          "name": "stdout",
          "text": [
            "Model: \"sequential_4\"\n",
            "_________________________________________________________________\n",
            " Layer (type)                Output Shape              Param #   \n",
            "=================================================================\n",
            " embedding_2 (Embedding)     (None, 200, 256)          2560000   \n",
            "                                                                 \n",
            " dropout_2 (Dropout)         (None, 200, 256)          0         \n",
            "                                                                 \n",
            " global_max_pooling1d_2 (Gl  (None, 256)               0         \n",
            " obalMaxPooling1D)                                               \n",
            "                                                                 \n",
            " dense_1 (Dense)             (None, 128)               32896     \n",
            "                                                                 \n",
            " dropout_3 (Dropout)         (None, 128)               0         \n",
            "                                                                 \n",
            " dense_2 (Dense)             (None, 1)                 129       \n",
            "                                                                 \n",
            "=================================================================\n",
            "Total params: 2593025 (9.89 MB)\n",
            "Trainable params: 2593025 (9.89 MB)\n",
            "Non-trainable params: 0 (0.00 Byte)\n",
            "_________________________________________________________________\n"
          ]
        }
      ]
    },
    {
      "cell_type": "code",
      "source": [
        "model.compile(optimizer=\"adam\", loss= \"binary_crossentropy\",\n",
        "              metrics =[\"accuracy\"]\n",
        "              )"
      ],
      "metadata": {
        "id": "yfYQ-TMEBove"
      },
      "execution_count": 14,
      "outputs": []
    },
    {
      "cell_type": "code",
      "source": [
        "score = model.fit(X_train, y_train,\n",
        "                  epochs=EPOCHS,\n",
        "                  batch_size= BATCH_SIZE,\n",
        "                  validation_data =(X_test,y_test))"
      ],
      "metadata": {
        "colab": {
          "base_uri": "https://localhost:8080/"
        },
        "id": "0iw6GoNkB4qi",
        "outputId": "0aae3256-ff47-4873-940f-5b2ab7266a76"
      },
      "execution_count": 15,
      "outputs": [
        {
          "output_type": "stream",
          "name": "stdout",
          "text": [
            "Epoch 1/20\n",
            "50/50 [==============================] - 33s 644ms/step - loss: 0.6743 - accuracy: 0.6290 - val_loss: 0.6359 - val_accuracy: 0.8350\n",
            "Epoch 2/20\n",
            "50/50 [==============================] - 32s 635ms/step - loss: 0.4679 - accuracy: 0.8366 - val_loss: 0.3652 - val_accuracy: 0.8590\n",
            "Epoch 3/20\n",
            "50/50 [==============================] - 32s 642ms/step - loss: 0.2823 - accuracy: 0.8837 - val_loss: 0.3053 - val_accuracy: 0.8747\n",
            "Epoch 4/20\n",
            "50/50 [==============================] - 30s 597ms/step - loss: 0.2174 - accuracy: 0.9158 - val_loss: 0.2904 - val_accuracy: 0.8784\n",
            "Epoch 5/20\n",
            "50/50 [==============================] - 37s 730ms/step - loss: 0.1698 - accuracy: 0.9378 - val_loss: 0.2908 - val_accuracy: 0.8764\n",
            "Epoch 6/20\n",
            "50/50 [==============================] - 30s 610ms/step - loss: 0.1333 - accuracy: 0.9566 - val_loss: 0.2976 - val_accuracy: 0.8738\n",
            "Epoch 7/20\n",
            "50/50 [==============================] - 31s 633ms/step - loss: 0.1029 - accuracy: 0.9683 - val_loss: 0.3060 - val_accuracy: 0.8695\n",
            "Epoch 8/20\n",
            "50/50 [==============================] - 32s 636ms/step - loss: 0.0773 - accuracy: 0.9780 - val_loss: 0.3172 - val_accuracy: 0.8673\n",
            "Epoch 9/20\n",
            "50/50 [==============================] - 31s 622ms/step - loss: 0.0591 - accuracy: 0.9843 - val_loss: 0.3345 - val_accuracy: 0.8646\n",
            "Epoch 10/20\n",
            "50/50 [==============================] - 30s 600ms/step - loss: 0.0443 - accuracy: 0.9890 - val_loss: 0.3523 - val_accuracy: 0.8614\n",
            "Epoch 11/20\n",
            "50/50 [==============================] - 32s 642ms/step - loss: 0.0318 - accuracy: 0.9925 - val_loss: 0.3698 - val_accuracy: 0.8586\n",
            "Epoch 12/20\n",
            "50/50 [==============================] - 31s 631ms/step - loss: 0.0249 - accuracy: 0.9948 - val_loss: 0.3859 - val_accuracy: 0.8578\n",
            "Epoch 13/20\n",
            "50/50 [==============================] - 31s 631ms/step - loss: 0.0193 - accuracy: 0.9966 - val_loss: 0.4057 - val_accuracy: 0.8552\n",
            "Epoch 14/20\n",
            "50/50 [==============================] - 31s 630ms/step - loss: 0.0159 - accuracy: 0.9967 - val_loss: 0.4188 - val_accuracy: 0.8544\n",
            "Epoch 15/20\n",
            "50/50 [==============================] - 31s 630ms/step - loss: 0.0128 - accuracy: 0.9982 - val_loss: 0.4391 - val_accuracy: 0.8532\n",
            "Epoch 16/20\n",
            "50/50 [==============================] - 31s 608ms/step - loss: 0.0103 - accuracy: 0.9983 - val_loss: 0.4487 - val_accuracy: 0.8533\n",
            "Epoch 17/20\n",
            "50/50 [==============================] - 30s 600ms/step - loss: 0.0091 - accuracy: 0.9984 - val_loss: 0.4699 - val_accuracy: 0.8496\n",
            "Epoch 18/20\n",
            "50/50 [==============================] - 30s 603ms/step - loss: 0.0075 - accuracy: 0.9989 - val_loss: 0.4743 - val_accuracy: 0.8518\n",
            "Epoch 19/20\n",
            "50/50 [==============================] - 30s 593ms/step - loss: 0.0062 - accuracy: 0.9992 - val_loss: 0.4851 - val_accuracy: 0.8514\n",
            "Epoch 20/20\n",
            "50/50 [==============================] - 30s 604ms/step - loss: 0.0050 - accuracy: 0.9995 - val_loss: 0.4965 - val_accuracy: 0.8514\n"
          ]
        }
      ]
    },
    {
      "cell_type": "code",
      "source": [
        "score = model.evaluate(X_test, y_test, batch_size=BATCH_SIZE)\n",
        "print(\"\\nTest score:\", score[0])\n",
        "print('test accuracy:',score[1])"
      ],
      "metadata": {
        "colab": {
          "base_uri": "https://localhost:8080/"
        },
        "id": "WFz8klLyCO7U",
        "outputId": "752db199-a541-4f5e-a736-86f322cb54a0"
      },
      "execution_count": 18,
      "outputs": [
        {
          "output_type": "stream",
          "name": "stdout",
          "text": [
            "50/50 [==============================] - 4s 86ms/step - loss: 0.4965 - accuracy: 0.8514\n",
            "\n",
            "Test score: 0.4964689314365387\n",
            "test accuracy: 0.8514400124549866\n"
          ]
        }
      ]
    },
    {
      "cell_type": "code",
      "source": [
        "predictions = model.predict(X_test)\n",
        "print(predictions)"
      ],
      "metadata": {
        "colab": {
          "base_uri": "https://localhost:8080/"
        },
        "id": "L4XIjEESCmNQ",
        "outputId": "3996fe6e-c118-4f52-e556-421bbd9416d6"
      },
      "execution_count": 24,
      "outputs": [
        {
          "output_type": "stream",
          "name": "stdout",
          "text": [
            "782/782 [==============================] - 4s 5ms/step\n",
            "[[0.00405705]\n",
            " [0.99937564]\n",
            " [0.13621897]\n",
            " ...\n",
            " [0.00331138]\n",
            " [0.00128106]\n",
            " [0.9153306 ]]\n"
          ]
        }
      ]
    },
    {
      "cell_type": "code",
      "source": [],
      "metadata": {
        "id": "ggwYMs4oC00E"
      },
      "execution_count": null,
      "outputs": []
    }
  ]
}