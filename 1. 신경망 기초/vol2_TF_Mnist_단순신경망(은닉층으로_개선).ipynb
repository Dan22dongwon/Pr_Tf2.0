{
  "nbformat": 4,
  "nbformat_minor": 0,
  "metadata": {
    "colab": {
      "provenance": []
    },
    "kernelspec": {
      "name": "python3",
      "display_name": "Python 3"
    },
    "language_info": {
      "name": "python"
    }
  },
  "cells": [
    {
      "cell_type": "code",
      "execution_count": 14,
      "metadata": {
        "id": "UWrSgxekQSeQ"
      },
      "outputs": [],
      "source": [
        "import tensorflow as tf\n",
        "import numpy as np\n",
        "from tensorflow import keras"
      ]
    },
    {
      "cell_type": "code",
      "source": [
        "#신경망과 훈련\n",
        "EPOCHS = 50\n",
        "BATCH_SIZE = 128\n",
        "VERBOSE = 1\n",
        "NB_CLASSES = 10 # 출력개수 = 숫자 개수\n",
        "N_HIDDEN = 128\n",
        "VALIDATION_SPLIT = 0.2 # 검증을 위해 남겨둘 훈련 집합 부분"
      ],
      "metadata": {
        "id": "SaYJNYbWllQV"
      },
      "execution_count": 15,
      "outputs": []
    },
    {
      "cell_type": "code",
      "source": [
        "# MNIST 데이터셋 로드\n",
        "# 레이블은 원-핫 인코딩 적용\n",
        "mnist = keras.datasets.mnist\n",
        "(X_train,Y_train),(X_test,Y_test) = mnist.load_data()"
      ],
      "metadata": {
        "id": "gJ_zK0iHo7y3"
      },
      "execution_count": 16,
      "outputs": []
    },
    {
      "cell_type": "code",
      "source": [
        "#X_train은 60,000개 행의 28X28값이다; 이를 60,000X784 형태로 변경한다\n",
        "RESHAPED = 784"
      ],
      "metadata": {
        "id": "2UTRIwogqHMZ"
      },
      "execution_count": 17,
      "outputs": []
    },
    {
      "cell_type": "code",
      "source": [
        "#\n",
        "X_train = X_train.reshape(60000,RESHAPED)\n",
        "X_test = X_test.reshape(10000, RESHAPED)\n",
        "X_train = X_train.astype('float32')\n",
        "X_test = X_test.astype('float32')"
      ],
      "metadata": {
        "id": "0md3deF2qmUx"
      },
      "execution_count": 18,
      "outputs": []
    },
    {
      "cell_type": "code",
      "source": [
        "# 입력을 [0,1]사이로 정규화 한다\n",
        "X_train,X_test = X_train/255.0, X_test/255.0\n",
        "print(X_train.shape[0],'train samples')\n",
        "print(X_test.shape[0],'test samples')"
      ],
      "metadata": {
        "colab": {
          "base_uri": "https://localhost:8080/"
        },
        "id": "b-rV92ULrlpB",
        "outputId": "8f4f2030-7085-4e66-e61a-b59121f454b3"
      },
      "execution_count": 19,
      "outputs": [
        {
          "output_type": "stream",
          "name": "stdout",
          "text": [
            "60000 train samples\n",
            "10000 test samples\n"
          ]
        }
      ]
    },
    {
      "cell_type": "code",
      "source": [
        "#레이블은 원-핫 인코딩 돼 있다\n",
        "Y_train = tf.keras.utils.to_categorical(Y_train,NB_CLASSES)\n",
        "Y_test = tf.keras.utils.to_categorical(Y_test,NB_CLASSES)"
      ],
      "metadata": {
        "id": "PwZdCM2AuLvC"
      },
      "execution_count": 20,
      "outputs": []
    },
    {
      "cell_type": "code",
      "source": [
        "#모델구축\n",
        "model = tf.keras.models.Sequential()\n",
        "model.add(keras.layers.Dense(N_HIDDEN,\n",
        "                             input_shape =(RESHAPED,),\n",
        "                             name = 'dense_layer', activation = 'relu'))\n",
        "model.add(keras.layers.Dense(N_HIDDEN,\n",
        "                             name = 'dense_layer_2', activation = 'relu'))\n",
        "model.add(keras.layers.Dense(NB_CLASSES,\n",
        "                             name = 'dense_layer_3' , activation = 'softmax'))"
      ],
      "metadata": {
        "id": "S-3wldaVuupM"
      },
      "execution_count": 24,
      "outputs": []
    },
    {
      "cell_type": "code",
      "source": [
        "# model 요약\n",
        "model.summary()"
      ],
      "metadata": {
        "colab": {
          "base_uri": "https://localhost:8080/"
        },
        "id": "JlsgP7cEwVMv",
        "outputId": "9ba5bfe5-3b40-455f-b12e-0b286e62fcec"
      },
      "execution_count": 25,
      "outputs": [
        {
          "output_type": "stream",
          "name": "stdout",
          "text": [
            "Model: \"sequential_4\"\n",
            "_________________________________________________________________\n",
            " Layer (type)                Output Shape              Param #   \n",
            "=================================================================\n",
            " dense_layer (Dense)         (None, 128)               100480    \n",
            "                                                                 \n",
            " dense_layer_2 (Dense)       (None, 128)               16512     \n",
            "                                                                 \n",
            " dense_layer_3 (Dense)       (None, 10)                1290      \n",
            "                                                                 \n",
            "=================================================================\n",
            "Total params: 118282 (462.04 KB)\n",
            "Trainable params: 118282 (462.04 KB)\n",
            "Non-trainable params: 0 (0.00 Byte)\n",
            "_________________________________________________________________\n"
          ]
        }
      ]
    },
    {
      "cell_type": "code",
      "source": [
        "#모델 컴파일\n",
        "model.compile(optimizer='SGD',\n",
        "              loss='categorical_crossentropy',\n",
        "              metrics=['accuracy'])"
      ],
      "metadata": {
        "id": "xB7eO_cjwbQW"
      },
      "execution_count": 26,
      "outputs": []
    },
    {
      "cell_type": "code",
      "source": [
        "#모델 훈련\n",
        "model.fit(X_train,Y_train,\n",
        "          batch_size=BATCH_SIZE, epochs=EPOCHS,\n",
        "          verbose=VERBOSE, validation_split=VALIDATION_SPLIT)"
      ],
      "metadata": {
        "colab": {
          "base_uri": "https://localhost:8080/"
        },
        "id": "2zHJ8yZUwrNm",
        "outputId": "9ff64c40-9827-471f-90d4-84a07bf0ecfb"
      },
      "execution_count": 28,
      "outputs": [
        {
          "output_type": "stream",
          "name": "stdout",
          "text": [
            "Epoch 1/50\n",
            "375/375 [==============================] - 3s 6ms/step - loss: 1.4606 - accuracy: 0.6404 - val_loss: 0.7457 - val_accuracy: 0.8352\n",
            "Epoch 2/50\n",
            "375/375 [==============================] - 2s 5ms/step - loss: 0.5938 - accuracy: 0.8556 - val_loss: 0.4466 - val_accuracy: 0.8869\n",
            "Epoch 3/50\n",
            "375/375 [==============================] - 2s 6ms/step - loss: 0.4328 - accuracy: 0.8848 - val_loss: 0.3669 - val_accuracy: 0.9004\n",
            "Epoch 4/50\n",
            "375/375 [==============================] - 3s 7ms/step - loss: 0.3733 - accuracy: 0.8968 - val_loss: 0.3300 - val_accuracy: 0.9082\n",
            "Epoch 5/50\n",
            "375/375 [==============================] - 2s 5ms/step - loss: 0.3402 - accuracy: 0.9044 - val_loss: 0.3050 - val_accuracy: 0.9145\n",
            "Epoch 6/50\n",
            "375/375 [==============================] - 4s 10ms/step - loss: 0.3176 - accuracy: 0.9104 - val_loss: 0.2873 - val_accuracy: 0.9191\n",
            "Epoch 7/50\n",
            "375/375 [==============================] - 3s 9ms/step - loss: 0.2998 - accuracy: 0.9151 - val_loss: 0.2737 - val_accuracy: 0.9227\n",
            "Epoch 8/50\n",
            "375/375 [==============================] - 3s 7ms/step - loss: 0.2853 - accuracy: 0.9191 - val_loss: 0.2628 - val_accuracy: 0.9256\n",
            "Epoch 9/50\n",
            "375/375 [==============================] - 2s 5ms/step - loss: 0.2731 - accuracy: 0.9221 - val_loss: 0.2563 - val_accuracy: 0.9273\n",
            "Epoch 10/50\n",
            "375/375 [==============================] - 3s 7ms/step - loss: 0.2623 - accuracy: 0.9257 - val_loss: 0.2471 - val_accuracy: 0.9287\n",
            "Epoch 11/50\n",
            "375/375 [==============================] - 4s 10ms/step - loss: 0.2525 - accuracy: 0.9287 - val_loss: 0.2359 - val_accuracy: 0.9322\n",
            "Epoch 12/50\n",
            "375/375 [==============================] - 4s 10ms/step - loss: 0.2434 - accuracy: 0.9306 - val_loss: 0.2295 - val_accuracy: 0.9337\n",
            "Epoch 13/50\n",
            "375/375 [==============================] - 3s 9ms/step - loss: 0.2353 - accuracy: 0.9331 - val_loss: 0.2224 - val_accuracy: 0.9358\n",
            "Epoch 14/50\n",
            "375/375 [==============================] - 3s 9ms/step - loss: 0.2276 - accuracy: 0.9354 - val_loss: 0.2168 - val_accuracy: 0.9373\n",
            "Epoch 15/50\n",
            "375/375 [==============================] - 4s 12ms/step - loss: 0.2203 - accuracy: 0.9373 - val_loss: 0.2120 - val_accuracy: 0.9383\n",
            "Epoch 16/50\n",
            "375/375 [==============================] - 4s 10ms/step - loss: 0.2137 - accuracy: 0.9396 - val_loss: 0.2055 - val_accuracy: 0.9408\n",
            "Epoch 17/50\n",
            "375/375 [==============================] - 2s 6ms/step - loss: 0.2072 - accuracy: 0.9411 - val_loss: 0.2013 - val_accuracy: 0.9430\n",
            "Epoch 18/50\n",
            "375/375 [==============================] - 2s 6ms/step - loss: 0.2012 - accuracy: 0.9429 - val_loss: 0.1968 - val_accuracy: 0.9436\n",
            "Epoch 19/50\n",
            "375/375 [==============================] - 2s 6ms/step - loss: 0.1954 - accuracy: 0.9451 - val_loss: 0.1915 - val_accuracy: 0.9453\n",
            "Epoch 20/50\n",
            "375/375 [==============================] - 2s 5ms/step - loss: 0.1902 - accuracy: 0.9463 - val_loss: 0.1874 - val_accuracy: 0.9467\n",
            "Epoch 21/50\n",
            "375/375 [==============================] - 3s 9ms/step - loss: 0.1851 - accuracy: 0.9475 - val_loss: 0.1836 - val_accuracy: 0.9475\n",
            "Epoch 22/50\n",
            "375/375 [==============================] - 3s 7ms/step - loss: 0.1803 - accuracy: 0.9487 - val_loss: 0.1800 - val_accuracy: 0.9493\n",
            "Epoch 23/50\n",
            "375/375 [==============================] - 3s 8ms/step - loss: 0.1756 - accuracy: 0.9499 - val_loss: 0.1768 - val_accuracy: 0.9501\n",
            "Epoch 24/50\n",
            "375/375 [==============================] - 3s 7ms/step - loss: 0.1712 - accuracy: 0.9519 - val_loss: 0.1737 - val_accuracy: 0.9500\n",
            "Epoch 25/50\n",
            "375/375 [==============================] - 2s 5ms/step - loss: 0.1671 - accuracy: 0.9523 - val_loss: 0.1701 - val_accuracy: 0.9518\n",
            "Epoch 26/50\n",
            "375/375 [==============================] - 2s 6ms/step - loss: 0.1630 - accuracy: 0.9542 - val_loss: 0.1669 - val_accuracy: 0.9528\n",
            "Epoch 27/50\n",
            "375/375 [==============================] - 3s 8ms/step - loss: 0.1590 - accuracy: 0.9550 - val_loss: 0.1646 - val_accuracy: 0.9532\n",
            "Epoch 28/50\n",
            "375/375 [==============================] - 2s 5ms/step - loss: 0.1555 - accuracy: 0.9560 - val_loss: 0.1617 - val_accuracy: 0.9553\n",
            "Epoch 29/50\n",
            "375/375 [==============================] - 2s 5ms/step - loss: 0.1518 - accuracy: 0.9574 - val_loss: 0.1591 - val_accuracy: 0.9557\n",
            "Epoch 30/50\n",
            "375/375 [==============================] - 2s 5ms/step - loss: 0.1485 - accuracy: 0.9584 - val_loss: 0.1572 - val_accuracy: 0.9556\n",
            "Epoch 31/50\n",
            "375/375 [==============================] - 2s 5ms/step - loss: 0.1452 - accuracy: 0.9591 - val_loss: 0.1546 - val_accuracy: 0.9567\n",
            "Epoch 32/50\n",
            "375/375 [==============================] - 2s 5ms/step - loss: 0.1419 - accuracy: 0.9599 - val_loss: 0.1530 - val_accuracy: 0.9558\n",
            "Epoch 33/50\n",
            "375/375 [==============================] - 2s 7ms/step - loss: 0.1388 - accuracy: 0.9608 - val_loss: 0.1517 - val_accuracy: 0.9575\n",
            "Epoch 34/50\n",
            "375/375 [==============================] - 3s 8ms/step - loss: 0.1359 - accuracy: 0.9617 - val_loss: 0.1471 - val_accuracy: 0.9593\n",
            "Epoch 35/50\n",
            "375/375 [==============================] - 2s 5ms/step - loss: 0.1331 - accuracy: 0.9623 - val_loss: 0.1455 - val_accuracy: 0.9589\n",
            "Epoch 36/50\n",
            "375/375 [==============================] - 2s 5ms/step - loss: 0.1305 - accuracy: 0.9631 - val_loss: 0.1444 - val_accuracy: 0.9595\n",
            "Epoch 37/50\n",
            "375/375 [==============================] - 2s 5ms/step - loss: 0.1278 - accuracy: 0.9644 - val_loss: 0.1419 - val_accuracy: 0.9603\n",
            "Epoch 38/50\n",
            "375/375 [==============================] - 2s 5ms/step - loss: 0.1253 - accuracy: 0.9650 - val_loss: 0.1408 - val_accuracy: 0.9603\n",
            "Epoch 39/50\n",
            "375/375 [==============================] - 2s 5ms/step - loss: 0.1228 - accuracy: 0.9659 - val_loss: 0.1387 - val_accuracy: 0.9609\n",
            "Epoch 40/50\n",
            "375/375 [==============================] - 3s 7ms/step - loss: 0.1205 - accuracy: 0.9663 - val_loss: 0.1372 - val_accuracy: 0.9621\n",
            "Epoch 41/50\n",
            "375/375 [==============================] - 3s 7ms/step - loss: 0.1182 - accuracy: 0.9670 - val_loss: 0.1359 - val_accuracy: 0.9629\n",
            "Epoch 42/50\n",
            "375/375 [==============================] - 2s 5ms/step - loss: 0.1159 - accuracy: 0.9680 - val_loss: 0.1340 - val_accuracy: 0.9629\n",
            "Epoch 43/50\n",
            "375/375 [==============================] - 2s 5ms/step - loss: 0.1137 - accuracy: 0.9684 - val_loss: 0.1327 - val_accuracy: 0.9635\n",
            "Epoch 44/50\n",
            "375/375 [==============================] - 2s 5ms/step - loss: 0.1117 - accuracy: 0.9690 - val_loss: 0.1311 - val_accuracy: 0.9633\n",
            "Epoch 45/50\n",
            "375/375 [==============================] - 2s 5ms/step - loss: 0.1095 - accuracy: 0.9694 - val_loss: 0.1290 - val_accuracy: 0.9632\n",
            "Epoch 46/50\n",
            "375/375 [==============================] - 2s 5ms/step - loss: 0.1076 - accuracy: 0.9697 - val_loss: 0.1281 - val_accuracy: 0.9648\n",
            "Epoch 47/50\n",
            "375/375 [==============================] - 3s 7ms/step - loss: 0.1058 - accuracy: 0.9705 - val_loss: 0.1263 - val_accuracy: 0.9651\n",
            "Epoch 48/50\n",
            "375/375 [==============================] - 3s 8ms/step - loss: 0.1038 - accuracy: 0.9712 - val_loss: 0.1253 - val_accuracy: 0.9653\n",
            "Epoch 49/50\n",
            "375/375 [==============================] - 2s 6ms/step - loss: 0.1021 - accuracy: 0.9712 - val_loss: 0.1243 - val_accuracy: 0.9660\n",
            "Epoch 50/50\n",
            "375/375 [==============================] - 2s 5ms/step - loss: 0.1002 - accuracy: 0.9719 - val_loss: 0.1233 - val_accuracy: 0.9653\n"
          ]
        },
        {
          "output_type": "execute_result",
          "data": {
            "text/plain": [
              "<keras.src.callbacks.History at 0x7f8080c51ea0>"
            ]
          },
          "metadata": {},
          "execution_count": 28
        }
      ]
    },
    {
      "cell_type": "code",
      "source": [
        "#모델 평가\n",
        "test_loss,test_acc = model.evaluate(X_test,Y_test)\n",
        "print('test accuray:',test_acc)"
      ],
      "metadata": {
        "colab": {
          "base_uri": "https://localhost:8080/"
        },
        "id": "I3KoVCBOxU5m",
        "outputId": "fb419d71-5c47-4930-c237-4d470f2bc7a4"
      },
      "execution_count": 29,
      "outputs": [
        {
          "output_type": "stream",
          "name": "stdout",
          "text": [
            "313/313 [==============================] - 1s 2ms/step - loss: 0.1173 - accuracy: 0.9663\n",
            "test accuray: 0.9663000106811523\n"
          ]
        }
      ]
    }
  ]
}